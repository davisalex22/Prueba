{
  "metadata": {
    "name": "Taller3",
    "kernelspec": {
		  "display_name": "Scala",
      "language": "scala",
      "name": "spark2-scala"
    },
    "language_info": {
      "codemirror_mode": "text/x-scala",
      "file_extension": ".scala",
      "mimetype": "text/x-scala",
      "name": "scala",
      "pygments_lexer": "scala"
    }
  },
  "nbformat": 4,
  "nbformat_minor": 2,
  "cells": [
    {
      "cell_type": "code",
      "execution_count": 0,
      "metadata": {
        "autoscroll": "auto"
      },
      "outputs": [],
      "source": "import org.apache.spark.sql.types._\nimport org.apache.spark.sql.functions._\nval myDataSchema \u003d StructType(\n  Array(\n    StructField(\"id\",DecimalType(26,0),true),\n    StructField(\"anio\",IntegerType,true),\n    StructField(\"mes\",IntegerType,true),\n    StructField(\"provincia\",IntegerType,true),\n    StructField(\"canton\",IntegerType,true),\n    StructField(\"area\",StringType,true),\n    StructField(\"genero\",StringType,true),\n    StructField(\"edad\",IntegerType,true),\n    StructField(\"estado_civil\",StringType,true),\n    StructField(\"nivel_de_instruccion\",StringType,true),\n    StructField(\"etnia\",StringType,true),\n    StructField(\"ingreso_laboral\",IntegerType,true),\n    StructField(\"condicion_actividad\",StringType,true),\n    StructField(\"sectorizacion\",StringType,true),\n    StructField(\"grupo_ocupacion\",StringType,true),\n    StructField(\"rama_actividad\",StringType,true),\n    StructField(\"factor_expansion\",DoubleType,true)\n  ));\n"
    },
    {
      "cell_type": "code",
      "execution_count": 1,
      "metadata": {
        "autoscroll": "auto"
      },
      "outputs": [],
      "source": "val data \u003d spark\n\t  .read\n\t  .option(\"inferSchema\",\"true\")\n\t  .option(\"header\",\"true\")\n\t  .option(\"delimiter\",\"\\t\")\n\t  .csv(\"/home/davisalex22/Datos_ENEMDU_PEA_v2.csv\")"
    },
    {
      "cell_type": "code",
      "execution_count": 2,
      "metadata": {
        "autoscroll": "auto"
      },
      "outputs": [],
      "source": "println($\"Total de filas: ${data.count}\")"
    },
    {
      "cell_type": "code",
      "execution_count": 3,
      "metadata": {
        "autoscroll": "auto"
      },
      "outputs": [],
      "source": "data.select(\"ingreso_laboral\").summary().show()"
    },
    {
      "cell_type": "code",
      "execution_count": 4,
      "metadata": {
        "autoscroll": "auto"
      },
      "outputs": [],
      "source": "// Verificacion si existen nulos\ndata.select(\"ingreso_laboral\").groupBy(\"ingreso_laboral\").count().sort($\"count\".desc).show(5)"
    },
    {
      "cell_type": "markdown",
      "metadata": {},
      "source": "Análisis General Basado en la columna ingreso_laboral"
    },
    {
      "cell_type": "code",
      "execution_count": 6,
      "metadata": {
        "autoscroll": "auto"
      },
      "outputs": [],
      "source": "// Seleccionar datos que no son nulos\nval dfIngresoLaboral \u003d data.select(\"ingreso_laboral\").where($\"ingreso_laboral\".isNotNull)"
    },
    {
      "cell_type": "code",
      "execution_count": 7,
      "metadata": {
        "autoscroll": "auto"
      },
      "outputs": [],
      "source": "dfIngresoLaboral.count"
    },
    {
      "cell_type": "markdown",
      "metadata": {},
      "source": "Desviación estándar"
    },
    {
      "cell_type": "code",
      "execution_count": 9,
      "metadata": {
        "autoscroll": "auto"
      },
      "outputs": [],
      "source": "val cantValoresEnDifRangos \u003d scala.collection.mutable.ListBuffer[Long]()\nval minValue \u003d 0.0\nval maxValue \u003d 146030\nval bins \u003d 5.0\nval range \u003d (maxValue - minValue) / bins\nvar minCounter \u003d minValue\nvar maxCounter \u003d range\nwhile(minCounter \u003c maxValue){\n    val valoresEnUnRango \u003d dfIngresoLaboral.where($\"ingreso_laboral\".between(minCounter,maxCounter))\n    cantValoresEnDifRangos.+\u003d(valoresEnUnRango.count())\n    minCounter \u003d maxCounter\n    maxCounter \u003d maxCounter + range\n}\nprintln(\"Valores en diferentes rangos:\")\ncantValoresEnDifRangos.foreach(println)"
    },
    {
      "cell_type": "code",
      "execution_count": 10,
      "metadata": {
        "autoscroll": "auto"
      },
      "outputs": [],
      "source": "val avg \u003d dfIngresoLaboral.select(mean(\"ingreso_laboral\"))\n    .first()(0).asInstanceOf[Double]"
    },
    {
      "cell_type": "markdown",
      "metadata": {},
      "source": "Cálculo de la Desviación estándar"
    },
    {
      "cell_type": "code",
      "execution_count": 12,
      "metadata": {
        "autoscroll": "auto"
      },
      "outputs": [],
      "source": "val stdDesv \u003d dfIngresoLaboral.select(stddev(\"ingreso_laboral\"))\n    .first()(0).asInstanceOf[Double]"
    },
    {
      "cell_type": "code",
      "execution_count": 13,
      "metadata": {
        "autoscroll": "auto"
      },
      "outputs": [],
      "source": "// Cálculo de límites\nval inferior \u003d avg - 3 * stdDesv\nval superior \u003d avg + 3 * stdDesv"
    },
    {
      "cell_type": "markdown",
      "metadata": {},
      "source": " Filtrar"
    },
    {
      "cell_type": "code",
      "execution_count": 15,
      "metadata": {
        "autoscroll": "auto"
      },
      "outputs": [],
      "source": "val valoresMenoresLInferior \u003d dfIngresoLaboral.where($\"ingreso_laboral\" \u003c inferior)\nvaloresMenoresLInferior.describe().show"
    },
    {
      "cell_type": "code",
      "execution_count": 16,
      "metadata": {
        "autoscroll": "auto"
      },
      "outputs": [],
      "source": "val valoresMayoresLSuperior \u003d dfIngresoLaboral.where($\"ingreso_laboral\" \u003e superior)\nvaloresMayoresLSuperior.describe().show"
    },
    {
      "cell_type": "code",
      "execution_count": 17,
      "metadata": {
        "autoscroll": "auto"
      },
      "outputs": [],
      "source": "valoresMayoresLSuperior.orderBy($\"ingreso_laboral\".desc).show"
    },
    {
      "cell_type": "code",
      "execution_count": 18,
      "metadata": {
        "autoscroll": "auto"
      },
      "outputs": [],
      "source": "val dataSinOutliertsStdDev \u003d dfIngresoLaboral.where($\"ingreso_laboral\" \u003e inferior \u0026\u0026 $\"ingreso_laboral\" \u003c superior)\ndataSinOutliertsStdDev.select(\"ingreso_laboral\").summary().show"
    },
    {
      "cell_type": "markdown",
      "metadata": {},
      "source": " \nTukey o Boxplots"
    },
    {
      "cell_type": "code",
      "execution_count": 20,
      "metadata": {
        "autoscroll": "auto"
      },
      "outputs": [],
      "source": "// Obtener cuartiles\ndata.select(\"ingreso_laboral\").summary().show"
    },
    {
      "cell_type": "code",
      "execution_count": 21,
      "metadata": {
        "autoscroll": "auto"
      },
      "outputs": [],
      "source": "// Cuartiles\nval cuartiles \u003d dfIngresoLaboral.stat.approxQuantile(\"ingreso_laboral\", Array(0.25,0.50,0.75), 0.0)"
    },
    {
      "cell_type": "code",
      "execution_count": 22,
      "metadata": {
        "autoscroll": "auto"
      },
      "outputs": [],
      "source": "val q1 \u003d cuartiles(0)\nval q2 \u003d cuartiles(1)\nval q3 \u003d cuartiles(2)"
    },
    {
      "cell_type": "code",
      "execution_count": 23,
      "metadata": {
        "autoscroll": "auto"
      },
      "outputs": [],
      "source": "// Calcular rango intercuartil\nval iqr \u003d q3 -q1\n"
    },
    {
      "cell_type": "code",
      "execution_count": 24,
      "metadata": {
        "autoscroll": "auto"
      },
      "outputs": [],
      "source": "// Calcular los límites\nval inferiorIQR \u003d q1 - 1.5 * iqr\nval superiorIQR \u003d q3 + 1.5 * iqr\n"
    },
    {
      "cell_type": "code",
      "execution_count": 25,
      "metadata": {
        "autoscroll": "auto"
      },
      "outputs": [],
      "source": "val valoresMenoresInferiorIqr \u003d dfIngresoLaboral.where($\"ingreso_laboral\" \u003c inferiorIQR)\nvaloresMenoresInferiorIqr.summary().show"
    },
    {
      "cell_type": "code",
      "execution_count": 26,
      "metadata": {
        "autoscroll": "auto"
      },
      "outputs": [],
      "source": "val valoresMayoresSuperiorIqr \u003d dfIngresoLaboral.where($\"ingreso_laboral\" \u003e superiorIQR)\nvaloresMayoresSuperiorIqr.summary().show"
    },
    {
      "cell_type": "code",
      "execution_count": 27,
      "metadata": {
        "autoscroll": "auto"
      },
      "outputs": [],
      "source": "\u003d dfIngresoLaboral.where($\"ingreso_laboral\" \u003e inferiorIQR \u0026\u0026 $\"ingreso_laboral\" \u003c superiorIQR)\ndataSinOutliertsIQR.select(\"ingreso_laboral\").summary().show"
    },
    {
      "cell_type": "markdown",
      "metadata": {},
      "source": " Comparando ambas aproximaciones"
    },
    {
      "cell_type": "code",
      "execution_count": 29,
      "metadata": {
        "autoscroll": "auto"
      },
      "outputs": [],
      "source": "dataSinOutliertsStdDev.select(\"ingreso_laboral\").summary().show"
    },
    {
      "cell_type": "code",
      "execution_count": 30,
      "metadata": {
        "autoscroll": "auto"
      },
      "outputs": [],
      "source": "dataSinOutliertsIQR.select(\"ingreso_laboral\").summary().show"
    }
  ]
}
